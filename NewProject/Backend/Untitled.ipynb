{
 "cells": [
  {
   "cell_type": "code",
   "execution_count": 7,
   "id": "b268b333",
   "metadata": {},
   "outputs": [],
   "source": [
    "from flask import Flask,render_template,request,jsonify,redirect, url_for\n",
    "import json\n",
    "from flask import jsonify\n",
    "import pandas as pd\n",
    "\n",
    "\n",
    "def create_app():\n",
    "  app = Flask(__name__)\n",
    "  return app\n",
    "\n",
    "app = create_app()\n",
    "\n",
    "\n",
    "@app.route(\"/\")\n",
    "def hello():\n",
    "    return 'Hello, World!'"
   ]
  },
  {
   "cell_type": "code",
   "execution_count": 8,
   "id": "9f5a6876",
   "metadata": {},
   "outputs": [],
   "source": [
    "@app.route(\"/jsonIP\",methods=['POST','GET'])\n",
    "def jsonIP():\n",
    "      try:\n",
    "        myUrl = request.environ['HTTP_ORIGIN']\n",
    "      except KeyError:\n",
    "        print(\"KeyError lol\")\n",
    "        myUrl = '*'\n",
    "      \n",
    "      # data = [{\"lol\":1,\"cocorico\":\"ZARBI\"},{\"lol\":2,\"cocorico\":\"WTF\"}] #exemple de la forme de donnée à retourner\n",
    "      data = getallTAB().head(500)\n",
    "      #dt_ip = getSitesIP(data,\"146.185.234.48\").to_dict(orient = 'records')\n",
    "      dt_ip = getSiteInfos(data,\"fontenay-aux-roses-92.ville.mygaloo.fr\").to_dict(orient = 'records')\n",
    "      de = {\"status\":\"OK\",\n",
    "             \"data\":dt_ip}\n",
    "      response = jsonify(de)\n",
    "      response.headers.add('Access-Control-Allow-Origin',myUrl)\n",
    "      response.headers.add('Access-Control-Allow-Credentials', 'true')\n",
    "      response.headers.add('Access-Control-Allow-Headers', 'Content-Type')\n",
    "      response.headers.add('Content-type','application/json')\n",
    "      response.headers.add('charset','utf8')\n",
    "      return response"
   ]
  },
  {
   "cell_type": "code",
   "execution_count": 9,
   "id": "22e91414",
   "metadata": {},
   "outputs": [],
   "source": [
    "def getallTAB():\n",
    "    url = \"./logs/dataset.txt\"\n",
    "    full_df2=pd.read_csv(url, sep=\" \", encoding=\"utf-8\")\n",
    "    full_df2.columns =['Date', 'Heure', 'ConsultedPage', 'IP','VisitedSite', 'StatusCode','DataBytes']\n",
    "    return full_df2"
   ]
  },
  {
   "cell_type": "code",
   "execution_count": 18,
   "id": "bb1b2554",
   "metadata": {},
   "outputs": [],
   "source": [
    "def getSiteInfos(df,url):\n",
    "    \"\"\" Fonction permettant de retourner un dataframe contenant la liste des sites visité par une adresse IP\n",
    "\n",
    "    paramètres : \n",
    "\n",
    "    df : dataframe contenant tous les logs.\n",
    "    url : chaine de caractère decrivant l'url à avoir.\n",
    "\n",
    "    retour : \n",
    "    \n",
    "    dc_info : dataframe listant les sites visité par l'ip.\n",
    "    \n",
    "    \"\"\"\n",
    "    df_ip = df[df['VisitedSite'] == url] \n",
    "    df_site =  df_ip.groupby('ConsultedPage').size().to_frame(name = 'nb_occur').sort_values(by = 'nb_occur', ascending = False).reset_index().head(10)\n",
    "    return df_site"
   ]
  },
  {
   "cell_type": "code",
   "execution_count": 19,
   "id": "e85d9c53",
   "metadata": {},
   "outputs": [
    {
     "data": {
      "text/plain": [
       "[{'ConsultedPage': 'l-atelier-informatique-forum-formation', 'nb_occur': 37},\n",
       " {'ConsultedPage': 'knu-prod-2', 'nb_occur': 34},\n",
       " {'ConsultedPage': 'espace-pour-entreprendre-3', 'nb_occur': 4},\n",
       " {'ConsultedPage': 'mairie-887', 'nb_occur': 4},\n",
       " {'ConsultedPage': 'les-dauphins-du-desert-3d-2', 'nb_occur': 4},\n",
       " {'ConsultedPage': 'comite-departemental-de-ski-3', 'nb_occur': 4},\n",
       " {'ConsultedPage': 'coordisante-chilly-mazarin', 'nb_occur': 4},\n",
       " {'ConsultedPage': 'objectif-diversification-d-actions-de-sensibilisations-o',\n",
       "  'nb_occur': 4},\n",
       " {'ConsultedPage': 'e-souhat-handicap-et-travail-2', 'nb_occur': 4},\n",
       " {'ConsultedPage': 'ecole-du-ski-francais-37', 'nb_occur': 4}]"
      ]
     },
     "execution_count": 19,
     "metadata": {},
     "output_type": "execute_result"
    }
   ],
   "source": [
    "data = getallTAB()\n",
    "dt_ip = getSiteInfos(data,\"fontenay-aux-roses-92.ville.mygaloo.fr\")\n",
    "dt_ip = dt_ip.to_dict(orient='records')\n",
    "dt_ip"
   ]
  },
  {
   "cell_type": "code",
   "execution_count": null,
   "id": "7ed038b3",
   "metadata": {},
   "outputs": [],
   "source": []
  },
  {
   "cell_type": "code",
   "execution_count": null,
   "id": "7a7b005f",
   "metadata": {},
   "outputs": [],
   "source": []
  }
 ],
 "metadata": {
  "kernelspec": {
   "display_name": "Python 3",
   "language": "python",
   "name": "python3"
  },
  "language_info": {
   "codemirror_mode": {
    "name": "ipython",
    "version": 3
   },
   "file_extension": ".py",
   "mimetype": "text/x-python",
   "name": "python",
   "nbconvert_exporter": "python",
   "pygments_lexer": "ipython3",
   "version": "3.8.8"
  }
 },
 "nbformat": 4,
 "nbformat_minor": 5
}
